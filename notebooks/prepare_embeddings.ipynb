{
  "nbformat": 4,
  "nbformat_minor": 0,
  "metadata": {
    "colab": {
      "name": "prepare_embeddings",
      "provenance": [],
      "collapsed_sections": []
    },
    "kernelspec": {
      "name": "python3",
      "display_name": "Python 3"
    },
    "widgets": {
      "application/vnd.jupyter.widget-state+json": {
        "cd488ccc90a14ba993d5dd5e2732d1a7": {
          "model_module": "@jupyter-widgets/controls",
          "model_name": "HBoxModel",
          "state": {
            "_view_name": "HBoxView",
            "_dom_classes": [],
            "_model_name": "HBoxModel",
            "_view_module": "@jupyter-widgets/controls",
            "_model_module_version": "1.5.0",
            "_view_count": null,
            "_view_module_version": "1.5.0",
            "box_style": "",
            "layout": "IPY_MODEL_567e044b07d74a8c812ee048372e6e7d",
            "_model_module": "@jupyter-widgets/controls",
            "children": [
              "IPY_MODEL_5f1ecbbea787477ab37862dff3d016cd",
              "IPY_MODEL_40cea29bbbfd49d69baa4145aebc4092"
            ]
          }
        },
        "567e044b07d74a8c812ee048372e6e7d": {
          "model_module": "@jupyter-widgets/base",
          "model_name": "LayoutModel",
          "state": {
            "_view_name": "LayoutView",
            "grid_template_rows": null,
            "right": null,
            "justify_content": null,
            "_view_module": "@jupyter-widgets/base",
            "overflow": null,
            "_model_module_version": "1.2.0",
            "_view_count": null,
            "flex_flow": null,
            "width": null,
            "min_width": null,
            "border": null,
            "align_items": null,
            "bottom": null,
            "_model_module": "@jupyter-widgets/base",
            "top": null,
            "grid_column": null,
            "overflow_y": null,
            "overflow_x": null,
            "grid_auto_flow": null,
            "grid_area": null,
            "grid_template_columns": null,
            "flex": null,
            "_model_name": "LayoutModel",
            "justify_items": null,
            "grid_row": null,
            "max_height": null,
            "align_content": null,
            "visibility": null,
            "align_self": null,
            "height": null,
            "min_height": null,
            "padding": null,
            "grid_auto_rows": null,
            "grid_gap": null,
            "max_width": null,
            "order": null,
            "_view_module_version": "1.2.0",
            "grid_template_areas": null,
            "object_position": null,
            "object_fit": null,
            "grid_auto_columns": null,
            "margin": null,
            "display": null,
            "left": null
          }
        },
        "5f1ecbbea787477ab37862dff3d016cd": {
          "model_module": "@jupyter-widgets/controls",
          "model_name": "FloatProgressModel",
          "state": {
            "_view_name": "ProgressView",
            "style": "IPY_MODEL_4099c56a35724bc49db8996fe7d41008",
            "_dom_classes": [],
            "description": "Downloading: 100%",
            "_model_name": "FloatProgressModel",
            "bar_style": "success",
            "max": 497,
            "_view_module": "@jupyter-widgets/controls",
            "_model_module_version": "1.5.0",
            "value": 497,
            "_view_count": null,
            "_view_module_version": "1.5.0",
            "orientation": "horizontal",
            "min": 0,
            "description_tooltip": null,
            "_model_module": "@jupyter-widgets/controls",
            "layout": "IPY_MODEL_9f017ce58661423fb549e1dbf5a1398d"
          }
        },
        "40cea29bbbfd49d69baa4145aebc4092": {
          "model_module": "@jupyter-widgets/controls",
          "model_name": "HTMLModel",
          "state": {
            "_view_name": "HTMLView",
            "style": "IPY_MODEL_d1defd67d32b4e45bbec9057a14d9dc8",
            "_dom_classes": [],
            "description": "",
            "_model_name": "HTMLModel",
            "placeholder": "​",
            "_view_module": "@jupyter-widgets/controls",
            "_model_module_version": "1.5.0",
            "value": " 497/497 [00:13&lt;00:00, 36.8B/s]",
            "_view_count": null,
            "_view_module_version": "1.5.0",
            "description_tooltip": null,
            "_model_module": "@jupyter-widgets/controls",
            "layout": "IPY_MODEL_b59e0e4619b24900b065dff71ec4e602"
          }
        },
        "4099c56a35724bc49db8996fe7d41008": {
          "model_module": "@jupyter-widgets/controls",
          "model_name": "ProgressStyleModel",
          "state": {
            "_view_name": "StyleView",
            "_model_name": "ProgressStyleModel",
            "description_width": "initial",
            "_view_module": "@jupyter-widgets/base",
            "_model_module_version": "1.5.0",
            "_view_count": null,
            "_view_module_version": "1.2.0",
            "bar_color": null,
            "_model_module": "@jupyter-widgets/controls"
          }
        },
        "9f017ce58661423fb549e1dbf5a1398d": {
          "model_module": "@jupyter-widgets/base",
          "model_name": "LayoutModel",
          "state": {
            "_view_name": "LayoutView",
            "grid_template_rows": null,
            "right": null,
            "justify_content": null,
            "_view_module": "@jupyter-widgets/base",
            "overflow": null,
            "_model_module_version": "1.2.0",
            "_view_count": null,
            "flex_flow": null,
            "width": null,
            "min_width": null,
            "border": null,
            "align_items": null,
            "bottom": null,
            "_model_module": "@jupyter-widgets/base",
            "top": null,
            "grid_column": null,
            "overflow_y": null,
            "overflow_x": null,
            "grid_auto_flow": null,
            "grid_area": null,
            "grid_template_columns": null,
            "flex": null,
            "_model_name": "LayoutModel",
            "justify_items": null,
            "grid_row": null,
            "max_height": null,
            "align_content": null,
            "visibility": null,
            "align_self": null,
            "height": null,
            "min_height": null,
            "padding": null,
            "grid_auto_rows": null,
            "grid_gap": null,
            "max_width": null,
            "order": null,
            "_view_module_version": "1.2.0",
            "grid_template_areas": null,
            "object_position": null,
            "object_fit": null,
            "grid_auto_columns": null,
            "margin": null,
            "display": null,
            "left": null
          }
        },
        "d1defd67d32b4e45bbec9057a14d9dc8": {
          "model_module": "@jupyter-widgets/controls",
          "model_name": "DescriptionStyleModel",
          "state": {
            "_view_name": "StyleView",
            "_model_name": "DescriptionStyleModel",
            "description_width": "",
            "_view_module": "@jupyter-widgets/base",
            "_model_module_version": "1.5.0",
            "_view_count": null,
            "_view_module_version": "1.2.0",
            "_model_module": "@jupyter-widgets/controls"
          }
        },
        "b59e0e4619b24900b065dff71ec4e602": {
          "model_module": "@jupyter-widgets/base",
          "model_name": "LayoutModel",
          "state": {
            "_view_name": "LayoutView",
            "grid_template_rows": null,
            "right": null,
            "justify_content": null,
            "_view_module": "@jupyter-widgets/base",
            "overflow": null,
            "_model_module_version": "1.2.0",
            "_view_count": null,
            "flex_flow": null,
            "width": null,
            "min_width": null,
            "border": null,
            "align_items": null,
            "bottom": null,
            "_model_module": "@jupyter-widgets/base",
            "top": null,
            "grid_column": null,
            "overflow_y": null,
            "overflow_x": null,
            "grid_auto_flow": null,
            "grid_area": null,
            "grid_template_columns": null,
            "flex": null,
            "_model_name": "LayoutModel",
            "justify_items": null,
            "grid_row": null,
            "max_height": null,
            "align_content": null,
            "visibility": null,
            "align_self": null,
            "height": null,
            "min_height": null,
            "padding": null,
            "grid_auto_rows": null,
            "grid_gap": null,
            "max_width": null,
            "order": null,
            "_view_module_version": "1.2.0",
            "grid_template_areas": null,
            "object_position": null,
            "object_fit": null,
            "grid_auto_columns": null,
            "margin": null,
            "display": null,
            "left": null
          }
        },
        "6c91aa5fc5b24c1fbd0cb0449552b8cc": {
          "model_module": "@jupyter-widgets/controls",
          "model_name": "HBoxModel",
          "state": {
            "_view_name": "HBoxView",
            "_dom_classes": [],
            "_model_name": "HBoxModel",
            "_view_module": "@jupyter-widgets/controls",
            "_model_module_version": "1.5.0",
            "_view_count": null,
            "_view_module_version": "1.5.0",
            "box_style": "",
            "layout": "IPY_MODEL_2c805a525d7f462792b47a38e346a5f5",
            "_model_module": "@jupyter-widgets/controls",
            "children": [
              "IPY_MODEL_29bba2b820744527a873332a554ef15e",
              "IPY_MODEL_65e7cd54eb234a9f9d5f1af1876e15ae"
            ]
          }
        },
        "2c805a525d7f462792b47a38e346a5f5": {
          "model_module": "@jupyter-widgets/base",
          "model_name": "LayoutModel",
          "state": {
            "_view_name": "LayoutView",
            "grid_template_rows": null,
            "right": null,
            "justify_content": null,
            "_view_module": "@jupyter-widgets/base",
            "overflow": null,
            "_model_module_version": "1.2.0",
            "_view_count": null,
            "flex_flow": null,
            "width": null,
            "min_width": null,
            "border": null,
            "align_items": null,
            "bottom": null,
            "_model_module": "@jupyter-widgets/base",
            "top": null,
            "grid_column": null,
            "overflow_y": null,
            "overflow_x": null,
            "grid_auto_flow": null,
            "grid_area": null,
            "grid_template_columns": null,
            "flex": null,
            "_model_name": "LayoutModel",
            "justify_items": null,
            "grid_row": null,
            "max_height": null,
            "align_content": null,
            "visibility": null,
            "align_self": null,
            "height": null,
            "min_height": null,
            "padding": null,
            "grid_auto_rows": null,
            "grid_gap": null,
            "max_width": null,
            "order": null,
            "_view_module_version": "1.2.0",
            "grid_template_areas": null,
            "object_position": null,
            "object_fit": null,
            "grid_auto_columns": null,
            "margin": null,
            "display": null,
            "left": null
          }
        },
        "29bba2b820744527a873332a554ef15e": {
          "model_module": "@jupyter-widgets/controls",
          "model_name": "FloatProgressModel",
          "state": {
            "_view_name": "ProgressView",
            "style": "IPY_MODEL_082d2a3dc567474b8b2583a4220ed2db",
            "_dom_classes": [],
            "description": "Downloading: 100%",
            "_model_name": "FloatProgressModel",
            "bar_style": "success",
            "max": 437976759,
            "_view_module": "@jupyter-widgets/controls",
            "_model_module_version": "1.5.0",
            "value": 437976759,
            "_view_count": null,
            "_view_module_version": "1.5.0",
            "orientation": "horizontal",
            "min": 0,
            "description_tooltip": null,
            "_model_module": "@jupyter-widgets/controls",
            "layout": "IPY_MODEL_014193179be04cd181aa7689a40462ed"
          }
        },
        "65e7cd54eb234a9f9d5f1af1876e15ae": {
          "model_module": "@jupyter-widgets/controls",
          "model_name": "HTMLModel",
          "state": {
            "_view_name": "HTMLView",
            "style": "IPY_MODEL_b434db295fac4e249204808aadd2b499",
            "_dom_classes": [],
            "description": "",
            "_model_name": "HTMLModel",
            "placeholder": "​",
            "_view_module": "@jupyter-widgets/controls",
            "_model_module_version": "1.5.0",
            "value": " 438M/438M [00:08&lt;00:00, 48.7MB/s]",
            "_view_count": null,
            "_view_module_version": "1.5.0",
            "description_tooltip": null,
            "_model_module": "@jupyter-widgets/controls",
            "layout": "IPY_MODEL_3c4abc1c7d6a42428bba918c9bde7b4b"
          }
        },
        "082d2a3dc567474b8b2583a4220ed2db": {
          "model_module": "@jupyter-widgets/controls",
          "model_name": "ProgressStyleModel",
          "state": {
            "_view_name": "StyleView",
            "_model_name": "ProgressStyleModel",
            "description_width": "initial",
            "_view_module": "@jupyter-widgets/base",
            "_model_module_version": "1.5.0",
            "_view_count": null,
            "_view_module_version": "1.2.0",
            "bar_color": null,
            "_model_module": "@jupyter-widgets/controls"
          }
        },
        "014193179be04cd181aa7689a40462ed": {
          "model_module": "@jupyter-widgets/base",
          "model_name": "LayoutModel",
          "state": {
            "_view_name": "LayoutView",
            "grid_template_rows": null,
            "right": null,
            "justify_content": null,
            "_view_module": "@jupyter-widgets/base",
            "overflow": null,
            "_model_module_version": "1.2.0",
            "_view_count": null,
            "flex_flow": null,
            "width": null,
            "min_width": null,
            "border": null,
            "align_items": null,
            "bottom": null,
            "_model_module": "@jupyter-widgets/base",
            "top": null,
            "grid_column": null,
            "overflow_y": null,
            "overflow_x": null,
            "grid_auto_flow": null,
            "grid_area": null,
            "grid_template_columns": null,
            "flex": null,
            "_model_name": "LayoutModel",
            "justify_items": null,
            "grid_row": null,
            "max_height": null,
            "align_content": null,
            "visibility": null,
            "align_self": null,
            "height": null,
            "min_height": null,
            "padding": null,
            "grid_auto_rows": null,
            "grid_gap": null,
            "max_width": null,
            "order": null,
            "_view_module_version": "1.2.0",
            "grid_template_areas": null,
            "object_position": null,
            "object_fit": null,
            "grid_auto_columns": null,
            "margin": null,
            "display": null,
            "left": null
          }
        },
        "b434db295fac4e249204808aadd2b499": {
          "model_module": "@jupyter-widgets/controls",
          "model_name": "DescriptionStyleModel",
          "state": {
            "_view_name": "StyleView",
            "_model_name": "DescriptionStyleModel",
            "description_width": "",
            "_view_module": "@jupyter-widgets/base",
            "_model_module_version": "1.5.0",
            "_view_count": null,
            "_view_module_version": "1.2.0",
            "_model_module": "@jupyter-widgets/controls"
          }
        },
        "3c4abc1c7d6a42428bba918c9bde7b4b": {
          "model_module": "@jupyter-widgets/base",
          "model_name": "LayoutModel",
          "state": {
            "_view_name": "LayoutView",
            "grid_template_rows": null,
            "right": null,
            "justify_content": null,
            "_view_module": "@jupyter-widgets/base",
            "overflow": null,
            "_model_module_version": "1.2.0",
            "_view_count": null,
            "flex_flow": null,
            "width": null,
            "min_width": null,
            "border": null,
            "align_items": null,
            "bottom": null,
            "_model_module": "@jupyter-widgets/base",
            "top": null,
            "grid_column": null,
            "overflow_y": null,
            "overflow_x": null,
            "grid_auto_flow": null,
            "grid_area": null,
            "grid_template_columns": null,
            "flex": null,
            "_model_name": "LayoutModel",
            "justify_items": null,
            "grid_row": null,
            "max_height": null,
            "align_content": null,
            "visibility": null,
            "align_self": null,
            "height": null,
            "min_height": null,
            "padding": null,
            "grid_auto_rows": null,
            "grid_gap": null,
            "max_width": null,
            "order": null,
            "_view_module_version": "1.2.0",
            "grid_template_areas": null,
            "object_position": null,
            "object_fit": null,
            "grid_auto_columns": null,
            "margin": null,
            "display": null,
            "left": null
          }
        },
        "3dda344dd04f49a5880fc5526e7e0ecf": {
          "model_module": "@jupyter-widgets/controls",
          "model_name": "HBoxModel",
          "state": {
            "_view_name": "HBoxView",
            "_dom_classes": [],
            "_model_name": "HBoxModel",
            "_view_module": "@jupyter-widgets/controls",
            "_model_module_version": "1.5.0",
            "_view_count": null,
            "_view_module_version": "1.5.0",
            "box_style": "",
            "layout": "IPY_MODEL_0cd8742287d04c39b7a2dc7d878f9a09",
            "_model_module": "@jupyter-widgets/controls",
            "children": [
              "IPY_MODEL_269b8c562eca4a788980dc10bad3b66b",
              "IPY_MODEL_6448e290a35b4d01aa24907e894afea1"
            ]
          }
        },
        "0cd8742287d04c39b7a2dc7d878f9a09": {
          "model_module": "@jupyter-widgets/base",
          "model_name": "LayoutModel",
          "state": {
            "_view_name": "LayoutView",
            "grid_template_rows": null,
            "right": null,
            "justify_content": null,
            "_view_module": "@jupyter-widgets/base",
            "overflow": null,
            "_model_module_version": "1.2.0",
            "_view_count": null,
            "flex_flow": null,
            "width": null,
            "min_width": null,
            "border": null,
            "align_items": null,
            "bottom": null,
            "_model_module": "@jupyter-widgets/base",
            "top": null,
            "grid_column": null,
            "overflow_y": null,
            "overflow_x": null,
            "grid_auto_flow": null,
            "grid_area": null,
            "grid_template_columns": null,
            "flex": null,
            "_model_name": "LayoutModel",
            "justify_items": null,
            "grid_row": null,
            "max_height": null,
            "align_content": null,
            "visibility": null,
            "align_self": null,
            "height": null,
            "min_height": null,
            "padding": null,
            "grid_auto_rows": null,
            "grid_gap": null,
            "max_width": null,
            "order": null,
            "_view_module_version": "1.2.0",
            "grid_template_areas": null,
            "object_position": null,
            "object_fit": null,
            "grid_auto_columns": null,
            "margin": null,
            "display": null,
            "left": null
          }
        },
        "269b8c562eca4a788980dc10bad3b66b": {
          "model_module": "@jupyter-widgets/controls",
          "model_name": "FloatProgressModel",
          "state": {
            "_view_name": "ProgressView",
            "style": "IPY_MODEL_c697ae10379744fbb2c7e280fa2ac1eb",
            "_dom_classes": [],
            "description": "Downloading: 100%",
            "_model_name": "FloatProgressModel",
            "bar_style": "success",
            "max": 231508,
            "_view_module": "@jupyter-widgets/controls",
            "_model_module_version": "1.5.0",
            "value": 231508,
            "_view_count": null,
            "_view_module_version": "1.5.0",
            "orientation": "horizontal",
            "min": 0,
            "description_tooltip": null,
            "_model_module": "@jupyter-widgets/controls",
            "layout": "IPY_MODEL_f1cc385f7ad242549be18b5556ad4a06"
          }
        },
        "6448e290a35b4d01aa24907e894afea1": {
          "model_module": "@jupyter-widgets/controls",
          "model_name": "HTMLModel",
          "state": {
            "_view_name": "HTMLView",
            "style": "IPY_MODEL_00017d9eef86464ebd9df2dc031570ed",
            "_dom_classes": [],
            "description": "",
            "_model_name": "HTMLModel",
            "placeholder": "​",
            "_view_module": "@jupyter-widgets/controls",
            "_model_module_version": "1.5.0",
            "value": " 232k/232k [00:00&lt;00:00, 303kB/s]",
            "_view_count": null,
            "_view_module_version": "1.5.0",
            "description_tooltip": null,
            "_model_module": "@jupyter-widgets/controls",
            "layout": "IPY_MODEL_df8648995ac34d1c96e10829654a9006"
          }
        },
        "c697ae10379744fbb2c7e280fa2ac1eb": {
          "model_module": "@jupyter-widgets/controls",
          "model_name": "ProgressStyleModel",
          "state": {
            "_view_name": "StyleView",
            "_model_name": "ProgressStyleModel",
            "description_width": "initial",
            "_view_module": "@jupyter-widgets/base",
            "_model_module_version": "1.5.0",
            "_view_count": null,
            "_view_module_version": "1.2.0",
            "bar_color": null,
            "_model_module": "@jupyter-widgets/controls"
          }
        },
        "f1cc385f7ad242549be18b5556ad4a06": {
          "model_module": "@jupyter-widgets/base",
          "model_name": "LayoutModel",
          "state": {
            "_view_name": "LayoutView",
            "grid_template_rows": null,
            "right": null,
            "justify_content": null,
            "_view_module": "@jupyter-widgets/base",
            "overflow": null,
            "_model_module_version": "1.2.0",
            "_view_count": null,
            "flex_flow": null,
            "width": null,
            "min_width": null,
            "border": null,
            "align_items": null,
            "bottom": null,
            "_model_module": "@jupyter-widgets/base",
            "top": null,
            "grid_column": null,
            "overflow_y": null,
            "overflow_x": null,
            "grid_auto_flow": null,
            "grid_area": null,
            "grid_template_columns": null,
            "flex": null,
            "_model_name": "LayoutModel",
            "justify_items": null,
            "grid_row": null,
            "max_height": null,
            "align_content": null,
            "visibility": null,
            "align_self": null,
            "height": null,
            "min_height": null,
            "padding": null,
            "grid_auto_rows": null,
            "grid_gap": null,
            "max_width": null,
            "order": null,
            "_view_module_version": "1.2.0",
            "grid_template_areas": null,
            "object_position": null,
            "object_fit": null,
            "grid_auto_columns": null,
            "margin": null,
            "display": null,
            "left": null
          }
        },
        "00017d9eef86464ebd9df2dc031570ed": {
          "model_module": "@jupyter-widgets/controls",
          "model_name": "DescriptionStyleModel",
          "state": {
            "_view_name": "StyleView",
            "_model_name": "DescriptionStyleModel",
            "description_width": "",
            "_view_module": "@jupyter-widgets/base",
            "_model_module_version": "1.5.0",
            "_view_count": null,
            "_view_module_version": "1.2.0",
            "_model_module": "@jupyter-widgets/controls"
          }
        },
        "df8648995ac34d1c96e10829654a9006": {
          "model_module": "@jupyter-widgets/base",
          "model_name": "LayoutModel",
          "state": {
            "_view_name": "LayoutView",
            "grid_template_rows": null,
            "right": null,
            "justify_content": null,
            "_view_module": "@jupyter-widgets/base",
            "overflow": null,
            "_model_module_version": "1.2.0",
            "_view_count": null,
            "flex_flow": null,
            "width": null,
            "min_width": null,
            "border": null,
            "align_items": null,
            "bottom": null,
            "_model_module": "@jupyter-widgets/base",
            "top": null,
            "grid_column": null,
            "overflow_y": null,
            "overflow_x": null,
            "grid_auto_flow": null,
            "grid_area": null,
            "grid_template_columns": null,
            "flex": null,
            "_model_name": "LayoutModel",
            "justify_items": null,
            "grid_row": null,
            "max_height": null,
            "align_content": null,
            "visibility": null,
            "align_self": null,
            "height": null,
            "min_height": null,
            "padding": null,
            "grid_auto_rows": null,
            "grid_gap": null,
            "max_width": null,
            "order": null,
            "_view_module_version": "1.2.0",
            "grid_template_areas": null,
            "object_position": null,
            "object_fit": null,
            "grid_auto_columns": null,
            "margin": null,
            "display": null,
            "left": null
          }
        },
        "c4a4f398c0bc47c78adc2b1e616d544a": {
          "model_module": "@jupyter-widgets/controls",
          "model_name": "HBoxModel",
          "state": {
            "_view_name": "HBoxView",
            "_dom_classes": [],
            "_model_name": "HBoxModel",
            "_view_module": "@jupyter-widgets/controls",
            "_model_module_version": "1.5.0",
            "_view_count": null,
            "_view_module_version": "1.5.0",
            "box_style": "",
            "layout": "IPY_MODEL_9cd5823b8a274a64b91c4d0c5da1de8e",
            "_model_module": "@jupyter-widgets/controls",
            "children": [
              "IPY_MODEL_c1b21f8fe1b24889a9f3f5e1abed89b6",
              "IPY_MODEL_6af6307e25354ace8889fa88b698e8c7"
            ]
          }
        },
        "9cd5823b8a274a64b91c4d0c5da1de8e": {
          "model_module": "@jupyter-widgets/base",
          "model_name": "LayoutModel",
          "state": {
            "_view_name": "LayoutView",
            "grid_template_rows": null,
            "right": null,
            "justify_content": null,
            "_view_module": "@jupyter-widgets/base",
            "overflow": null,
            "_model_module_version": "1.2.0",
            "_view_count": null,
            "flex_flow": null,
            "width": null,
            "min_width": null,
            "border": null,
            "align_items": null,
            "bottom": null,
            "_model_module": "@jupyter-widgets/base",
            "top": null,
            "grid_column": null,
            "overflow_y": null,
            "overflow_x": null,
            "grid_auto_flow": null,
            "grid_area": null,
            "grid_template_columns": null,
            "flex": null,
            "_model_name": "LayoutModel",
            "justify_items": null,
            "grid_row": null,
            "max_height": null,
            "align_content": null,
            "visibility": null,
            "align_self": null,
            "height": null,
            "min_height": null,
            "padding": null,
            "grid_auto_rows": null,
            "grid_gap": null,
            "max_width": null,
            "order": null,
            "_view_module_version": "1.2.0",
            "grid_template_areas": null,
            "object_position": null,
            "object_fit": null,
            "grid_auto_columns": null,
            "margin": null,
            "display": null,
            "left": null
          }
        },
        "c1b21f8fe1b24889a9f3f5e1abed89b6": {
          "model_module": "@jupyter-widgets/controls",
          "model_name": "FloatProgressModel",
          "state": {
            "_view_name": "ProgressView",
            "style": "IPY_MODEL_5c4460794d364ce184e920653dccad85",
            "_dom_classes": [],
            "description": "Downloading: 100%",
            "_model_name": "FloatProgressModel",
            "bar_style": "success",
            "max": 112,
            "_view_module": "@jupyter-widgets/controls",
            "_model_module_version": "1.5.0",
            "value": 112,
            "_view_count": null,
            "_view_module_version": "1.5.0",
            "orientation": "horizontal",
            "min": 0,
            "description_tooltip": null,
            "_model_module": "@jupyter-widgets/controls",
            "layout": "IPY_MODEL_ef0c21e7bf784e63a6e3003a08aa7b2d"
          }
        },
        "6af6307e25354ace8889fa88b698e8c7": {
          "model_module": "@jupyter-widgets/controls",
          "model_name": "HTMLModel",
          "state": {
            "_view_name": "HTMLView",
            "style": "IPY_MODEL_372278897b4a40fe8e4bab069fbb9b62",
            "_dom_classes": [],
            "description": "",
            "_model_name": "HTMLModel",
            "placeholder": "​",
            "_view_module": "@jupyter-widgets/controls",
            "_model_module_version": "1.5.0",
            "value": " 112/112 [00:00&lt;00:00, 363B/s]",
            "_view_count": null,
            "_view_module_version": "1.5.0",
            "description_tooltip": null,
            "_model_module": "@jupyter-widgets/controls",
            "layout": "IPY_MODEL_db1ee97b29c84250940b00a88bfb0435"
          }
        },
        "5c4460794d364ce184e920653dccad85": {
          "model_module": "@jupyter-widgets/controls",
          "model_name": "ProgressStyleModel",
          "state": {
            "_view_name": "StyleView",
            "_model_name": "ProgressStyleModel",
            "description_width": "initial",
            "_view_module": "@jupyter-widgets/base",
            "_model_module_version": "1.5.0",
            "_view_count": null,
            "_view_module_version": "1.2.0",
            "bar_color": null,
            "_model_module": "@jupyter-widgets/controls"
          }
        },
        "ef0c21e7bf784e63a6e3003a08aa7b2d": {
          "model_module": "@jupyter-widgets/base",
          "model_name": "LayoutModel",
          "state": {
            "_view_name": "LayoutView",
            "grid_template_rows": null,
            "right": null,
            "justify_content": null,
            "_view_module": "@jupyter-widgets/base",
            "overflow": null,
            "_model_module_version": "1.2.0",
            "_view_count": null,
            "flex_flow": null,
            "width": null,
            "min_width": null,
            "border": null,
            "align_items": null,
            "bottom": null,
            "_model_module": "@jupyter-widgets/base",
            "top": null,
            "grid_column": null,
            "overflow_y": null,
            "overflow_x": null,
            "grid_auto_flow": null,
            "grid_area": null,
            "grid_template_columns": null,
            "flex": null,
            "_model_name": "LayoutModel",
            "justify_items": null,
            "grid_row": null,
            "max_height": null,
            "align_content": null,
            "visibility": null,
            "align_self": null,
            "height": null,
            "min_height": null,
            "padding": null,
            "grid_auto_rows": null,
            "grid_gap": null,
            "max_width": null,
            "order": null,
            "_view_module_version": "1.2.0",
            "grid_template_areas": null,
            "object_position": null,
            "object_fit": null,
            "grid_auto_columns": null,
            "margin": null,
            "display": null,
            "left": null
          }
        },
        "372278897b4a40fe8e4bab069fbb9b62": {
          "model_module": "@jupyter-widgets/controls",
          "model_name": "DescriptionStyleModel",
          "state": {
            "_view_name": "StyleView",
            "_model_name": "DescriptionStyleModel",
            "description_width": "",
            "_view_module": "@jupyter-widgets/base",
            "_model_module_version": "1.5.0",
            "_view_count": null,
            "_view_module_version": "1.2.0",
            "_model_module": "@jupyter-widgets/controls"
          }
        },
        "db1ee97b29c84250940b00a88bfb0435": {
          "model_module": "@jupyter-widgets/base",
          "model_name": "LayoutModel",
          "state": {
            "_view_name": "LayoutView",
            "grid_template_rows": null,
            "right": null,
            "justify_content": null,
            "_view_module": "@jupyter-widgets/base",
            "overflow": null,
            "_model_module_version": "1.2.0",
            "_view_count": null,
            "flex_flow": null,
            "width": null,
            "min_width": null,
            "border": null,
            "align_items": null,
            "bottom": null,
            "_model_module": "@jupyter-widgets/base",
            "top": null,
            "grid_column": null,
            "overflow_y": null,
            "overflow_x": null,
            "grid_auto_flow": null,
            "grid_area": null,
            "grid_template_columns": null,
            "flex": null,
            "_model_name": "LayoutModel",
            "justify_items": null,
            "grid_row": null,
            "max_height": null,
            "align_content": null,
            "visibility": null,
            "align_self": null,
            "height": null,
            "min_height": null,
            "padding": null,
            "grid_auto_rows": null,
            "grid_gap": null,
            "max_width": null,
            "order": null,
            "_view_module_version": "1.2.0",
            "grid_template_areas": null,
            "object_position": null,
            "object_fit": null,
            "grid_auto_columns": null,
            "margin": null,
            "display": null,
            "left": null
          }
        },
        "59f1113deba64cc9a0c9c94e9eb87cad": {
          "model_module": "@jupyter-widgets/controls",
          "model_name": "HBoxModel",
          "state": {
            "_view_name": "HBoxView",
            "_dom_classes": [],
            "_model_name": "HBoxModel",
            "_view_module": "@jupyter-widgets/controls",
            "_model_module_version": "1.5.0",
            "_view_count": null,
            "_view_module_version": "1.5.0",
            "box_style": "",
            "layout": "IPY_MODEL_b6155a5a0c6040e9a9d9af69e49e650b",
            "_model_module": "@jupyter-widgets/controls",
            "children": [
              "IPY_MODEL_026e888108ea4c5dbfa881e8caa34c1c",
              "IPY_MODEL_c840b8aa13484f9293434d4008bf1f38"
            ]
          }
        },
        "b6155a5a0c6040e9a9d9af69e49e650b": {
          "model_module": "@jupyter-widgets/base",
          "model_name": "LayoutModel",
          "state": {
            "_view_name": "LayoutView",
            "grid_template_rows": null,
            "right": null,
            "justify_content": null,
            "_view_module": "@jupyter-widgets/base",
            "overflow": null,
            "_model_module_version": "1.2.0",
            "_view_count": null,
            "flex_flow": null,
            "width": null,
            "min_width": null,
            "border": null,
            "align_items": null,
            "bottom": null,
            "_model_module": "@jupyter-widgets/base",
            "top": null,
            "grid_column": null,
            "overflow_y": null,
            "overflow_x": null,
            "grid_auto_flow": null,
            "grid_area": null,
            "grid_template_columns": null,
            "flex": null,
            "_model_name": "LayoutModel",
            "justify_items": null,
            "grid_row": null,
            "max_height": null,
            "align_content": null,
            "visibility": null,
            "align_self": null,
            "height": null,
            "min_height": null,
            "padding": null,
            "grid_auto_rows": null,
            "grid_gap": null,
            "max_width": null,
            "order": null,
            "_view_module_version": "1.2.0",
            "grid_template_areas": null,
            "object_position": null,
            "object_fit": null,
            "grid_auto_columns": null,
            "margin": null,
            "display": null,
            "left": null
          }
        },
        "026e888108ea4c5dbfa881e8caa34c1c": {
          "model_module": "@jupyter-widgets/controls",
          "model_name": "FloatProgressModel",
          "state": {
            "_view_name": "ProgressView",
            "style": "IPY_MODEL_fa6b9cbb69b54333b1a3738d8f799a7c",
            "_dom_classes": [],
            "description": "Downloading: 100%",
            "_model_name": "FloatProgressModel",
            "bar_style": "success",
            "max": 152,
            "_view_module": "@jupyter-widgets/controls",
            "_model_module_version": "1.5.0",
            "value": 152,
            "_view_count": null,
            "_view_module_version": "1.5.0",
            "orientation": "horizontal",
            "min": 0,
            "description_tooltip": null,
            "_model_module": "@jupyter-widgets/controls",
            "layout": "IPY_MODEL_aa66049e6fce400885a50617ecb5c942"
          }
        },
        "c840b8aa13484f9293434d4008bf1f38": {
          "model_module": "@jupyter-widgets/controls",
          "model_name": "HTMLModel",
          "state": {
            "_view_name": "HTMLView",
            "style": "IPY_MODEL_e8d44048ed9e4c559ee4f64fa6624eb5",
            "_dom_classes": [],
            "description": "",
            "_model_name": "HTMLModel",
            "placeholder": "​",
            "_view_module": "@jupyter-widgets/controls",
            "_model_module_version": "1.5.0",
            "value": " 152/152 [00:00&lt;00:00, 1.96kB/s]",
            "_view_count": null,
            "_view_module_version": "1.5.0",
            "description_tooltip": null,
            "_model_module": "@jupyter-widgets/controls",
            "layout": "IPY_MODEL_ae12585bd3fa4a11bd8b029e031fda70"
          }
        },
        "fa6b9cbb69b54333b1a3738d8f799a7c": {
          "model_module": "@jupyter-widgets/controls",
          "model_name": "ProgressStyleModel",
          "state": {
            "_view_name": "StyleView",
            "_model_name": "ProgressStyleModel",
            "description_width": "initial",
            "_view_module": "@jupyter-widgets/base",
            "_model_module_version": "1.5.0",
            "_view_count": null,
            "_view_module_version": "1.2.0",
            "bar_color": null,
            "_model_module": "@jupyter-widgets/controls"
          }
        },
        "aa66049e6fce400885a50617ecb5c942": {
          "model_module": "@jupyter-widgets/base",
          "model_name": "LayoutModel",
          "state": {
            "_view_name": "LayoutView",
            "grid_template_rows": null,
            "right": null,
            "justify_content": null,
            "_view_module": "@jupyter-widgets/base",
            "overflow": null,
            "_model_module_version": "1.2.0",
            "_view_count": null,
            "flex_flow": null,
            "width": null,
            "min_width": null,
            "border": null,
            "align_items": null,
            "bottom": null,
            "_model_module": "@jupyter-widgets/base",
            "top": null,
            "grid_column": null,
            "overflow_y": null,
            "overflow_x": null,
            "grid_auto_flow": null,
            "grid_area": null,
            "grid_template_columns": null,
            "flex": null,
            "_model_name": "LayoutModel",
            "justify_items": null,
            "grid_row": null,
            "max_height": null,
            "align_content": null,
            "visibility": null,
            "align_self": null,
            "height": null,
            "min_height": null,
            "padding": null,
            "grid_auto_rows": null,
            "grid_gap": null,
            "max_width": null,
            "order": null,
            "_view_module_version": "1.2.0",
            "grid_template_areas": null,
            "object_position": null,
            "object_fit": null,
            "grid_auto_columns": null,
            "margin": null,
            "display": null,
            "left": null
          }
        },
        "e8d44048ed9e4c559ee4f64fa6624eb5": {
          "model_module": "@jupyter-widgets/controls",
          "model_name": "DescriptionStyleModel",
          "state": {
            "_view_name": "StyleView",
            "_model_name": "DescriptionStyleModel",
            "description_width": "",
            "_view_module": "@jupyter-widgets/base",
            "_model_module_version": "1.5.0",
            "_view_count": null,
            "_view_module_version": "1.2.0",
            "_model_module": "@jupyter-widgets/controls"
          }
        },
        "ae12585bd3fa4a11bd8b029e031fda70": {
          "model_module": "@jupyter-widgets/base",
          "model_name": "LayoutModel",
          "state": {
            "_view_name": "LayoutView",
            "grid_template_rows": null,
            "right": null,
            "justify_content": null,
            "_view_module": "@jupyter-widgets/base",
            "overflow": null,
            "_model_module_version": "1.2.0",
            "_view_count": null,
            "flex_flow": null,
            "width": null,
            "min_width": null,
            "border": null,
            "align_items": null,
            "bottom": null,
            "_model_module": "@jupyter-widgets/base",
            "top": null,
            "grid_column": null,
            "overflow_y": null,
            "overflow_x": null,
            "grid_auto_flow": null,
            "grid_area": null,
            "grid_template_columns": null,
            "flex": null,
            "_model_name": "LayoutModel",
            "justify_items": null,
            "grid_row": null,
            "max_height": null,
            "align_content": null,
            "visibility": null,
            "align_self": null,
            "height": null,
            "min_height": null,
            "padding": null,
            "grid_auto_rows": null,
            "grid_gap": null,
            "max_width": null,
            "order": null,
            "_view_module_version": "1.2.0",
            "grid_template_areas": null,
            "object_position": null,
            "object_fit": null,
            "grid_auto_columns": null,
            "margin": null,
            "display": null,
            "left": null
          }
        }
      }
    }
  },
  "cells": [
    {
      "cell_type": "markdown",
      "metadata": {
        "id": "j3dhckosjk5n",
        "colab_type": "text"
      },
      "source": [
        "# COVID Data Bert Embedding Generation"
      ]
    },
    {
      "cell_type": "markdown",
      "metadata": {
        "id": "SVvzrvB-ELd4",
        "colab_type": "text"
      },
      "source": [
        "Processes Allen Institute COVID dataset and pre-generates BERT embeddings for the entire dataset"
      ]
    },
    {
      "cell_type": "code",
      "metadata": {
        "id": "6-c2_8WXE5TL",
        "colab_type": "code",
        "colab": {}
      },
      "source": [
        "!pip install sentence-transformers"
      ],
      "execution_count": 0,
      "outputs": []
    },
    {
      "cell_type": "code",
      "metadata": {
        "id": "J9jGvyG4E9Zx",
        "colab_type": "code",
        "colab": {}
      },
      "source": [
        "from sentence_transformers import models, SentenceTransformer\n",
        "import os\n",
        "import torch\n",
        "import pandas as pd\n",
        "import glob\n",
        "import json\n",
        "import re\n",
        "import pickle as pkl\n",
        "import numpy as np\n",
        "import scipy.spatial\n",
        "import h5py\n",
        "import re\n",
        "import torch"
      ],
      "execution_count": 0,
      "outputs": []
    },
    {
      "cell_type": "markdown",
      "metadata": {
        "id": "0okr7_szhhX8",
        "colab_type": "text"
      },
      "source": [
        "## Load and Process Data"
      ]
    },
    {
      "cell_type": "code",
      "metadata": {
        "id": "ClvxCVUbheDn",
        "colab_type": "code",
        "outputId": "91f2d681-18bb-4846-f1f2-abca4c10abdc",
        "colab": {
          "base_uri": "https://localhost:8080/",
          "height": 123
        }
      },
      "source": [
        "from google.colab import drive\n",
        "drive.mount('/content/gdrive')"
      ],
      "execution_count": 4,
      "outputs": [
        {
          "output_type": "stream",
          "text": [
            "Go to this URL in a browser: https://accounts.google.com/o/oauth2/auth?client_id=947318989803-6bn6qk8qdgf4n4g3pfee6491hc0brc4i.apps.googleusercontent.com&redirect_uri=urn%3aietf%3awg%3aoauth%3a2.0%3aoob&response_type=code&scope=email%20https%3a%2f%2fwww.googleapis.com%2fauth%2fdocs.test%20https%3a%2f%2fwww.googleapis.com%2fauth%2fdrive%20https%3a%2f%2fwww.googleapis.com%2fauth%2fdrive.photos.readonly%20https%3a%2f%2fwww.googleapis.com%2fauth%2fpeopleapi.readonly\n",
            "\n",
            "Enter your authorization code:\n",
            "··········\n",
            "Mounted at /content/gdrive\n"
          ],
          "name": "stdout"
        }
      ]
    },
    {
      "cell_type": "code",
      "metadata": {
        "id": "BRv34S63hdRA",
        "colab_type": "code",
        "colab": {}
      },
      "source": [
        "ROOT = \"/content\"\n",
        "DATA_DIR = os.path.join(ROOT, r'gdrive/My Drive/School/Applied DL/project/')\n",
        "DATA_PATH = os.path.join(DATA_DIR, \"CORD-19-research-challenge.zip\")  # path to Allen COVID dataset"
      ],
      "execution_count": 0,
      "outputs": []
    },
    {
      "cell_type": "markdown",
      "metadata": {
        "id": "hdS8UeAiCPU7",
        "colab_type": "text"
      },
      "source": [
        "Load cached preprocessed data if exists\n"
      ]
    },
    {
      "cell_type": "code",
      "metadata": {
        "id": "wNbfkUgMi1xD",
        "colab_type": "code",
        "colab": {}
      },
      "source": [
        "# Load cached preprocessed data\n",
        "# df = pd.read_pickle(os.path.join(DATA_DIR, 'processed_data_2.pkl'))"
      ],
      "execution_count": 0,
      "outputs": []
    },
    {
      "cell_type": "code",
      "metadata": {
        "id": "Ggw2zDoQh31h",
        "colab_type": "code",
        "colab": {}
      },
      "source": [
        "!unzip -qq $DATA_PATH -d $ROOT/data"
      ],
      "execution_count": 0,
      "outputs": []
    },
    {
      "cell_type": "code",
      "metadata": {
        "id": "Pj1PRN8gh4AX",
        "colab_type": "code",
        "colab": {}
      },
      "source": [
        "DATA_PATH = os.path.join(ROOT, \"data\")\n",
        "\n",
        "metadata = pd.read_csv(os.path.join(DATA_PATH, \"metadata.csv\"), dtype={\"sha\": str})\n",
        "doc_list = glob.glob(os.path.join(DATA_PATH + \"/**/*.json\"), recursive=True)"
      ],
      "execution_count": 0,
      "outputs": []
    },
    {
      "cell_type": "code",
      "metadata": {
        "id": "ATGFEtx4r-jE",
        "colab_type": "code",
        "colab": {}
      },
      "source": [
        "def parse_document(file_path):\n",
        "    \"\"\"\n",
        "    Given a string path to a json file, get the paper id and text of the paper\n",
        "    \"\"\"\n",
        "    data = {}\n",
        "    with open(file_path, mode=\"r\") as f:\n",
        "        content = json.load(f)\n",
        "\n",
        "        abstract= []\n",
        "        if \"abstract\" in content:\n",
        "            for section in content[\"abstract\"]:\n",
        "                abstract.append(section[\"text\"])\n",
        "\n",
        "        body = []\n",
        "        for section in content[\"body_text\"]:\n",
        "            if len(section[\"text\"]) > 50:\n",
        "                body.append(section[\"text\"])\n",
        "        \n",
        "        data[\"paper_id\"] = content[\"paper_id\"]\n",
        "        data[\"body_text\"] = \"\\n\".join(body)\n",
        "        data[\"abstract\"] = \"\\n\".join(abstract)\n",
        "\n",
        "    return data"
      ],
      "execution_count": 0,
      "outputs": []
    },
    {
      "cell_type": "markdown",
      "metadata": {
        "id": "WpsTWnGBNuZd",
        "colab_type": "text"
      },
      "source": [
        "### Create main dataframe"
      ]
    },
    {
      "cell_type": "code",
      "metadata": {
        "id": "cx89yPnh7mFQ",
        "colab_type": "code",
        "outputId": "181a1034-fc3f-4d2c-974e-89083cee516a",
        "colab": {
          "base_uri": "https://localhost:8080/",
          "height": 304
        }
      },
      "source": [
        "data = []\n",
        "columns=['paper_id', 'title', 'abstract', 'body_text', 'authors', 'journal', 'url']\n",
        "\n",
        "for doc in doc_list:\n",
        "    text = parse_document(doc)\n",
        "\n",
        "    meta = metadata.loc[metadata['sha'] == text[\"paper_id\"]]\n",
        "    if meta.shape[0] == 0:\n",
        "        continue  # no metadata available\n",
        "\n",
        "    data.append((text[\"paper_id\"],  meta['title'].values[0],  \n",
        "                 text[\"abstract\"], text[\"body_text\"], \n",
        "                 meta['authors'].values[0], meta['journal'].values[0],\n",
        "                 meta['url'].values[0]))\n",
        "\n",
        "df = pd.DataFrame(data, columns=columns)\n",
        "del data  # to save memory\n",
        "df.head()"
      ],
      "execution_count": 0,
      "outputs": [
        {
          "output_type": "execute_result",
          "data": {
            "text/html": [
              "<div>\n",
              "<style scoped>\n",
              "    .dataframe tbody tr th:only-of-type {\n",
              "        vertical-align: middle;\n",
              "    }\n",
              "\n",
              "    .dataframe tbody tr th {\n",
              "        vertical-align: top;\n",
              "    }\n",
              "\n",
              "    .dataframe thead th {\n",
              "        text-align: right;\n",
              "    }\n",
              "</style>\n",
              "<table border=\"1\" class=\"dataframe\">\n",
              "  <thead>\n",
              "    <tr style=\"text-align: right;\">\n",
              "      <th></th>\n",
              "      <th>paper_id</th>\n",
              "      <th>title</th>\n",
              "      <th>abstract</th>\n",
              "      <th>body_text</th>\n",
              "      <th>authors</th>\n",
              "      <th>journal</th>\n",
              "      <th>url</th>\n",
              "    </tr>\n",
              "  </thead>\n",
              "  <tbody>\n",
              "    <tr>\n",
              "      <th>0</th>\n",
              "      <td>35349bb1fc9290338907b7d7f104c9db3951163b</td>\n",
              "      <td>2018 ACVIM Forum Research Abstract Program: Se...</td>\n",
              "      <td>Angiotensin converting enzyme inhibitors (ACEi...</td>\n",
              "      <td>The objective was to assess the diagnostic uti...</td>\n",
              "      <td>NaN</td>\n",
              "      <td>J Vet Intern Med</td>\n",
              "      <td>https://www.ncbi.nlm.nih.gov/pmc/articles/PMC6...</td>\n",
              "    </tr>\n",
              "    <tr>\n",
              "      <th>1</th>\n",
              "      <td>67595d2304315ae4af47ec96fbd42c55bd6855e2</td>\n",
              "      <td>ORMA: a tool for identification of species-spe...</td>\n",
              "      <td>16S rRNA gene is one of the preferred targets ...</td>\n",
              "      <td>During the last decades, different nucleic-aci...</td>\n",
              "      <td>Severgnini, Marco; Cremonesi, Paola; Consoland...</td>\n",
              "      <td>Nucleic Acids Res</td>\n",
              "      <td>https://www.ncbi.nlm.nih.gov/pmc/articles/PMC2...</td>\n",
              "    </tr>\n",
              "    <tr>\n",
              "      <th>2</th>\n",
              "      <td>dac4e5ddd4e1b0a3ec755a573674371f724462a8</td>\n",
              "      <td>Susceptibility of Chikungunya Virus to Inactiv...</td>\n",
              "      <td>Despite increasing clinical relevance of Chiku...</td>\n",
              "      <td>Over the past decades, Chikungunya virus (CHIK...</td>\n",
              "      <td>Franz, Sergej; Friesland, Martina; Passos, Vân...</td>\n",
              "      <td>J Infect Dis</td>\n",
              "      <td>https://www.ncbi.nlm.nih.gov/pmc/articles/PMC6...</td>\n",
              "    </tr>\n",
              "    <tr>\n",
              "      <th>3</th>\n",
              "      <td>dca3423350c6278fe7b9479eb894a578ffeeeb68</td>\n",
              "      <td>Peptides as Therapeutic Agents for Dengue Virus</td>\n",
              "      <td></td>\n",
              "      <td>Dengue is a mosquito-borne disease caused by t...</td>\n",
              "      <td>Chew, Miaw-Fang; Poh, Keat-Seong; Poh, Chit-Laa</td>\n",
              "      <td>Int J Med Sci</td>\n",
              "      <td>https://www.ncbi.nlm.nih.gov/pmc/articles/PMC5...</td>\n",
              "    </tr>\n",
              "    <tr>\n",
              "      <th>4</th>\n",
              "      <td>a50b31b20869c7fe66f9d850c228211c04819956</td>\n",
              "      <td>Repeat Auditing of Primary Health-care Facilit...</td>\n",
              "      <td>Background: The elevated risk of occupational ...</td>\n",
              "      <td>Accreditation or certification of health-care ...</td>\n",
              "      <td>Cloete, Brynt; Yassi, Annalee; Ehrlich, Rodney</td>\n",
              "      <td>Saf Health Work</td>\n",
              "      <td>https://www.ncbi.nlm.nih.gov/pmc/articles/PMC7...</td>\n",
              "    </tr>\n",
              "  </tbody>\n",
              "</table>\n",
              "</div>"
            ],
            "text/plain": [
              "                                   paper_id  ...                                                url\n",
              "0  35349bb1fc9290338907b7d7f104c9db3951163b  ...  https://www.ncbi.nlm.nih.gov/pmc/articles/PMC6...\n",
              "1  67595d2304315ae4af47ec96fbd42c55bd6855e2  ...  https://www.ncbi.nlm.nih.gov/pmc/articles/PMC2...\n",
              "2  dac4e5ddd4e1b0a3ec755a573674371f724462a8  ...  https://www.ncbi.nlm.nih.gov/pmc/articles/PMC6...\n",
              "3  dca3423350c6278fe7b9479eb894a578ffeeeb68  ...  https://www.ncbi.nlm.nih.gov/pmc/articles/PMC5...\n",
              "4  a50b31b20869c7fe66f9d850c228211c04819956  ...  https://www.ncbi.nlm.nih.gov/pmc/articles/PMC7...\n",
              "\n",
              "[5 rows x 7 columns]"
            ]
          },
          "metadata": {
            "tags": []
          },
          "execution_count": 11
        }
      ]
    },
    {
      "cell_type": "markdown",
      "metadata": {
        "id": "4fpJ4yWHY67C",
        "colab_type": "text"
      },
      "source": [
        "### Clean Data"
      ]
    },
    {
      "cell_type": "code",
      "metadata": {
        "id": "p2mvamAKbdDH",
        "colab_type": "code",
        "colab": {}
      },
      "source": [
        "df['body_text'] = df['body_text'].str.replace(r'[^a-zA-z0-9\\s]', '').str.lower()\n",
        "# df['abstract'] = df['abstract'].str.replace(r'[^a-zA-z0-9\\s]', '').str.lower()\n",
        "\n",
        "# According to Allen Institute dataset, duplicate papers exist with different ids\n",
        "df = df.drop_duplicates(\"abstract\").drop_duplicates(\"body_text\")\n",
        "df = df.drop_duplicates([\"abstract\", \"body_text\"])\n",
        "df = df.dropna(subset=[\"url\"])\n",
        "df = df.loc[(df[\"body_text\"].str.len() > 0) & (df[\"abstract\"].str.len() > 0)]\n",
        "\n",
        "df = df.reset_index(drop=True)"
      ],
      "execution_count": 0,
      "outputs": []
    },
    {
      "cell_type": "code",
      "metadata": {
        "id": "4mPv5m6T_8Xs",
        "colab_type": "code",
        "colab": {}
      },
      "source": [
        "# Cache processed dataframe for testing\n",
        "df.to_pickle(os.path.join(DATA_DIR, 'processed_data_2.pkl'))"
      ],
      "execution_count": 0,
      "outputs": []
    },
    {
      "cell_type": "markdown",
      "metadata": {
        "id": "CucbKFpXyF2x",
        "colab_type": "text"
      },
      "source": [
        "## Prepare Data for Embedding\n"
      ]
    },
    {
      "cell_type": "markdown",
      "metadata": {
        "id": "1jMNWiZJCf6T",
        "colab_type": "text"
      },
      "source": [
        "Extract sentence/paragraph-level data from each paper."
      ]
    },
    {
      "cell_type": "code",
      "metadata": {
        "id": "b_CsD2iy3TKw",
        "colab_type": "code",
        "colab": {}
      },
      "source": [
        "text = df.drop([\"authors\", \"journal\"], axis=1)\n",
        "text_dict = text.to_dict()\n",
        "\n",
        "paper_id_list  = []\n",
        "body_text_list = []\n",
        "url_list = []\n",
        "\n",
        "title_list = []\n",
        "abstract_list = []\n",
        "for i in range(0,len(df[\"paper_id\"])):\n",
        "    paper_id = text_dict[\"paper_id\"][i]\n",
        "    body_text = text_dict[\"body_text\"][i].split(\"\\n\")\n",
        "    title = text_dict[\"title\"][i]\n",
        "    abstract = text_dict[\"abstract\"][i]\n",
        "    url = text_dict[\"url\"][i]\n",
        "    for b in body_text:\n",
        "        paper_id_list.append(paper_id)\n",
        "        body_text_list.append(b)\n",
        "        title_list.append(title)\n",
        "        abstract_list.append(abstract)\n",
        "        url_list.append(url)\n",
        "\n",
        "df_sentences = pd.DataFrame({\"paper_id\":paper_id_list,\"title\":title_list,\"abstract\":abstract_list,\"url\":url_list}, index=body_text_list)\n",
        "df_sentences = df_sentences.reset_index().rename(columns={\"index\":\"body_text\"})"
      ],
      "execution_count": 0,
      "outputs": []
    },
    {
      "cell_type": "code",
      "metadata": {
        "id": "eby8825NDv4R",
        "colab_type": "code",
        "colab": {
          "base_uri": "https://localhost:8080/",
          "height": 287
        },
        "outputId": "a37b6cd0-d051-41c3-dea6-3bf6aa2fbf10"
      },
      "source": [
        "df_sentences.head()"
      ],
      "execution_count": 13,
      "outputs": [
        {
          "output_type": "execute_result",
          "data": {
            "text/html": [
              "<div>\n",
              "<style scoped>\n",
              "    .dataframe tbody tr th:only-of-type {\n",
              "        vertical-align: middle;\n",
              "    }\n",
              "\n",
              "    .dataframe tbody tr th {\n",
              "        vertical-align: top;\n",
              "    }\n",
              "\n",
              "    .dataframe thead th {\n",
              "        text-align: right;\n",
              "    }\n",
              "</style>\n",
              "<table border=\"1\" class=\"dataframe\">\n",
              "  <thead>\n",
              "    <tr style=\"text-align: right;\">\n",
              "      <th></th>\n",
              "      <th>body_text</th>\n",
              "      <th>paper_id</th>\n",
              "      <th>title</th>\n",
              "      <th>abstract</th>\n",
              "      <th>url</th>\n",
              "    </tr>\n",
              "  </thead>\n",
              "  <tbody>\n",
              "    <tr>\n",
              "      <th>0</th>\n",
              "      <td>the objective was to assess the diagnostic uti...</td>\n",
              "      <td>35349bb1fc9290338907b7d7f104c9db3951163b</td>\n",
              "      <td>2018 ACVIM Forum Research Abstract Program: Se...</td>\n",
              "      <td>Angiotensin converting enzyme inhibitors (ACEi...</td>\n",
              "      <td>https://www.ncbi.nlm.nih.gov/pmc/articles/PMC6...</td>\n",
              "    </tr>\n",
              "    <tr>\n",
              "      <th>1</th>\n",
              "      <td>ten apparently healthy horses 458619kg from th...</td>\n",
              "      <td>35349bb1fc9290338907b7d7f104c9db3951163b</td>\n",
              "      <td>2018 ACVIM Forum Research Abstract Program: Se...</td>\n",
              "      <td>Angiotensin converting enzyme inhibitors (ACEi...</td>\n",
              "      <td>https://www.ncbi.nlm.nih.gov/pmc/articles/PMC6...</td>\n",
              "    </tr>\n",
              "    <tr>\n",
              "      <th>2</th>\n",
              "      <td>we conclude that ice is feasible safe and allo...</td>\n",
              "      <td>35349bb1fc9290338907b7d7f104c9db3951163b</td>\n",
              "      <td>2018 ACVIM Forum Research Abstract Program: Se...</td>\n",
              "      <td>Angiotensin converting enzyme inhibitors (ACEi...</td>\n",
              "      <td>https://www.ncbi.nlm.nih.gov/pmc/articles/PMC6...</td>\n",
              "    </tr>\n",
              "    <tr>\n",
              "      <th>3</th>\n",
              "      <td>julia r treseder nicole l leblanc katherine f ...</td>\n",
              "      <td>35349bb1fc9290338907b7d7f104c9db3951163b</td>\n",
              "      <td>2018 ACVIM Forum Research Abstract Program: Se...</td>\n",
              "      <td>Angiotensin converting enzyme inhibitors (ACEi...</td>\n",
              "      <td>https://www.ncbi.nlm.nih.gov/pmc/articles/PMC6...</td>\n",
              "    </tr>\n",
              "    <tr>\n",
              "      <th>4</th>\n",
              "      <td>these effects have been demonstrated to be ind...</td>\n",
              "      <td>35349bb1fc9290338907b7d7f104c9db3951163b</td>\n",
              "      <td>2018 ACVIM Forum Research Abstract Program: Se...</td>\n",
              "      <td>Angiotensin converting enzyme inhibitors (ACEi...</td>\n",
              "      <td>https://www.ncbi.nlm.nih.gov/pmc/articles/PMC6...</td>\n",
              "    </tr>\n",
              "  </tbody>\n",
              "</table>\n",
              "</div>"
            ],
            "text/plain": [
              "                                           body_text  ...                                                url\n",
              "0  the objective was to assess the diagnostic uti...  ...  https://www.ncbi.nlm.nih.gov/pmc/articles/PMC6...\n",
              "1  ten apparently healthy horses 458619kg from th...  ...  https://www.ncbi.nlm.nih.gov/pmc/articles/PMC6...\n",
              "2  we conclude that ice is feasible safe and allo...  ...  https://www.ncbi.nlm.nih.gov/pmc/articles/PMC6...\n",
              "3  julia r treseder nicole l leblanc katherine f ...  ...  https://www.ncbi.nlm.nih.gov/pmc/articles/PMC6...\n",
              "4  these effects have been demonstrated to be ind...  ...  https://www.ncbi.nlm.nih.gov/pmc/articles/PMC6...\n",
              "\n",
              "[5 rows x 5 columns]"
            ]
          },
          "metadata": {
            "tags": []
          },
          "execution_count": 13
        }
      ]
    },
    {
      "cell_type": "code",
      "metadata": {
        "id": "GHVjBP2iHhim",
        "colab_type": "code",
        "colab": {}
      },
      "source": [
        "# Save paper lookup table for app\n",
        "# with open(os.path.join(DATA_DIR, 'text_lookup_2.pkl'), 'wb') as f:\n",
        "#         pkl.dump(df_sentences.drop([\"paper_id\"],axis=1).values, f)"
      ],
      "execution_count": 0,
      "outputs": []
    },
    {
      "cell_type": "markdown",
      "metadata": {
        "id": "CnRf7vvwziB7",
        "colab_type": "text"
      },
      "source": [
        "## Generate Embeddings"
      ]
    },
    {
      "cell_type": "code",
      "metadata": {
        "id": "B3hhGJjxyF57",
        "colab_type": "code",
        "colab": {}
      },
      "source": [
        "# Sentence Transformer Models\n",
        "# MODEL_NAME = 'distilbert-base-nli-stsb-mean-tokens'\n",
        "# MODEL_NAME = 'bert-base-nli-mean-tokens'\n",
        "# MODEL_NAME = 'distilbert-base-nli-mean-tokens'\n",
        "# MODEL_NAME = 'roberta-base-nli-stsb-mean-tokens'\n",
        "# embedder = SentenceTransformer(MODEL_NAME)"
      ],
      "execution_count": 0,
      "outputs": []
    },
    {
      "cell_type": "code",
      "metadata": {
        "id": "C108dqE-ln3E",
        "colab_type": "code",
        "outputId": "7163cd9f-e163-4f1c-d4bb-485c4332ce1e",
        "colab": {
          "base_uri": "https://localhost:8080/",
          "height": 263,
          "referenced_widgets": [
            "cd488ccc90a14ba993d5dd5e2732d1a7",
            "567e044b07d74a8c812ee048372e6e7d",
            "5f1ecbbea787477ab37862dff3d016cd",
            "40cea29bbbfd49d69baa4145aebc4092",
            "4099c56a35724bc49db8996fe7d41008",
            "9f017ce58661423fb549e1dbf5a1398d",
            "d1defd67d32b4e45bbec9057a14d9dc8",
            "b59e0e4619b24900b065dff71ec4e602",
            "6c91aa5fc5b24c1fbd0cb0449552b8cc",
            "2c805a525d7f462792b47a38e346a5f5",
            "29bba2b820744527a873332a554ef15e",
            "65e7cd54eb234a9f9d5f1af1876e15ae",
            "082d2a3dc567474b8b2583a4220ed2db",
            "014193179be04cd181aa7689a40462ed",
            "b434db295fac4e249204808aadd2b499",
            "3c4abc1c7d6a42428bba918c9bde7b4b",
            "3dda344dd04f49a5880fc5526e7e0ecf",
            "0cd8742287d04c39b7a2dc7d878f9a09",
            "269b8c562eca4a788980dc10bad3b66b",
            "6448e290a35b4d01aa24907e894afea1",
            "c697ae10379744fbb2c7e280fa2ac1eb",
            "f1cc385f7ad242549be18b5556ad4a06",
            "00017d9eef86464ebd9df2dc031570ed",
            "df8648995ac34d1c96e10829654a9006",
            "c4a4f398c0bc47c78adc2b1e616d544a",
            "9cd5823b8a274a64b91c4d0c5da1de8e",
            "c1b21f8fe1b24889a9f3f5e1abed89b6",
            "6af6307e25354ace8889fa88b698e8c7",
            "5c4460794d364ce184e920653dccad85",
            "ef0c21e7bf784e63a6e3003a08aa7b2d",
            "372278897b4a40fe8e4bab069fbb9b62",
            "db1ee97b29c84250940b00a88bfb0435",
            "59f1113deba64cc9a0c9c94e9eb87cad",
            "b6155a5a0c6040e9a9d9af69e49e650b",
            "026e888108ea4c5dbfa881e8caa34c1c",
            "c840b8aa13484f9293434d4008bf1f38",
            "fa6b9cbb69b54333b1a3738d8f799a7c",
            "aa66049e6fce400885a50617ecb5c942",
            "e8d44048ed9e4c559ee4f64fa6624eb5",
            "ae12585bd3fa4a11bd8b029e031fda70"
          ]
        }
      },
      "source": [
        "# CUSTOM HUGGINGFACE MODEL\n",
        "MODEL_NAME = 'gsarti/covidbert-nli'\n",
        "word_embedding_model = models.BERT(MODEL_NAME,\n",
        "                       max_seq_length=510,\n",
        "                       do_lower_case=True)\n",
        "\n",
        "pooling_model = models.Pooling(word_embedding_model.get_word_embedding_dimension(),\n",
        "                               pooling_mode_mean_tokens=True,\n",
        "                               pooling_mode_cls_token=False,\n",
        "                               pooling_mode_max_tokens=False)\n",
        "\n",
        "embedder = SentenceTransformer(modules=[word_embedding_model, pooling_model])\n",
        "\n",
        "embedder = torch.quantization.quantize_dynamic(\n",
        "    embedder, {torch.nn.Linear}, dtype=torch.qint8)"
      ],
      "execution_count": 6,
      "outputs": [
        {
          "output_type": "display_data",
          "data": {
            "application/vnd.jupyter.widget-view+json": {
              "model_id": "cd488ccc90a14ba993d5dd5e2732d1a7",
              "version_minor": 0,
              "version_major": 2
            },
            "text/plain": [
              "HBox(children=(FloatProgress(value=0.0, description='Downloading', max=497.0, style=ProgressStyle(description_…"
            ]
          },
          "metadata": {
            "tags": []
          }
        },
        {
          "output_type": "stream",
          "text": [
            "\n"
          ],
          "name": "stdout"
        },
        {
          "output_type": "display_data",
          "data": {
            "application/vnd.jupyter.widget-view+json": {
              "model_id": "6c91aa5fc5b24c1fbd0cb0449552b8cc",
              "version_minor": 0,
              "version_major": 2
            },
            "text/plain": [
              "HBox(children=(FloatProgress(value=0.0, description='Downloading', max=437976759.0, style=ProgressStyle(descri…"
            ]
          },
          "metadata": {
            "tags": []
          }
        },
        {
          "output_type": "stream",
          "text": [
            "\n"
          ],
          "name": "stdout"
        },
        {
          "output_type": "display_data",
          "data": {
            "application/vnd.jupyter.widget-view+json": {
              "model_id": "3dda344dd04f49a5880fc5526e7e0ecf",
              "version_minor": 0,
              "version_major": 2
            },
            "text/plain": [
              "HBox(children=(FloatProgress(value=0.0, description='Downloading', max=231508.0, style=ProgressStyle(descripti…"
            ]
          },
          "metadata": {
            "tags": []
          }
        },
        {
          "output_type": "stream",
          "text": [
            "\n"
          ],
          "name": "stdout"
        },
        {
          "output_type": "display_data",
          "data": {
            "application/vnd.jupyter.widget-view+json": {
              "model_id": "c4a4f398c0bc47c78adc2b1e616d544a",
              "version_minor": 0,
              "version_major": 2
            },
            "text/plain": [
              "HBox(children=(FloatProgress(value=0.0, description='Downloading', max=112.0, style=ProgressStyle(description_…"
            ]
          },
          "metadata": {
            "tags": []
          }
        },
        {
          "output_type": "stream",
          "text": [
            "\n"
          ],
          "name": "stdout"
        },
        {
          "output_type": "display_data",
          "data": {
            "application/vnd.jupyter.widget-view+json": {
              "model_id": "59f1113deba64cc9a0c9c94e9eb87cad",
              "version_minor": 0,
              "version_major": 2
            },
            "text/plain": [
              "HBox(children=(FloatProgress(value=0.0, description='Downloading', max=152.0, style=ProgressStyle(description_…"
            ]
          },
          "metadata": {
            "tags": []
          }
        },
        {
          "output_type": "stream",
          "text": [
            "\n"
          ],
          "name": "stdout"
        }
      ]
    },
    {
      "cell_type": "code",
      "metadata": {
        "id": "LK6SxqsUnkUk",
        "colab_type": "code",
        "colab": {}
      },
      "source": [
        "# Save model for app\n",
        "# embedder.save(\"./model\")\n",
        "# !zip -r model.zip model"
      ],
      "execution_count": 0,
      "outputs": []
    },
    {
      "cell_type": "code",
      "metadata": {
        "id": "HF7PTsxXLWfS",
        "colab_type": "code",
        "colab": {}
      },
      "source": [
        "# Break into batches to deal with low memory issues\n",
        "NUM_BATCHES = 8\n",
        "corpus = df_sentences[\"body_text\"].values\n",
        "batches = np.array_split(corpus, NUM_BATCHES)"
      ],
      "execution_count": 0,
      "outputs": []
    },
    {
      "cell_type": "code",
      "metadata": {
        "id": "qoF8jgkmNHLJ",
        "colab_type": "code",
        "colab": {}
      },
      "source": [
        "# Free up memory\n",
        "del df\n",
        "del text_dict\n",
        "del df_sentences\n",
        "del corpus"
      ],
      "execution_count": 0,
      "outputs": []
    },
    {
      "cell_type": "markdown",
      "metadata": {
        "id": "bpYhXQMiQD7D",
        "colab_type": "text"
      },
      "source": [
        "Use this in web browser console to prevent colab from timing out\n",
        "~~~\n",
        "function ClickConnect(){\n",
        "\n",
        "    console.log(\"Working\"); \n",
        "    document.querySelector(\"colab-toolbar-button\").click() \n",
        "}\n",
        "setInterval(ClickConnect,60000)\n",
        "~~~"
      ]
    },
    {
      "cell_type": "code",
      "metadata": {
        "id": "KjCaIcCQLyjf",
        "colab_type": "code",
        "colab": {}
      },
      "source": [
        "# Generate embeddings\n",
        "for i, batch in enumerate(batches):\n",
        "    print(\"\\nBatch:\", i)\n",
        "    # if i < 5:\n",
        "    #     continue\n",
        "    corpus_embeddings = embedder.encode(batch,show_progress_bar=True)\n",
        "    with open(os.path.join(DATA_DIR, 'embeddings-batch' + str(i) + '-' + MODEL_NAME.replace(\"/\", \"-\") + '.pkl'), 'wb') as f:\n",
        "        pkl.dump(corpus_embeddings, f)\n",
        "    del corpus_embeddings"
      ],
      "execution_count": 0,
      "outputs": []
    },
    {
      "cell_type": "code",
      "metadata": {
        "id": "LB42DiYeI3C6",
        "colab_type": "code",
        "outputId": "87d1a4d5-9390-4efb-cfc3-6bc91064f6cb",
        "colab": {
          "base_uri": "https://localhost:8080/",
          "height": 155
        }
      },
      "source": [
        "# Combine batches\n",
        "embeddings = []\n",
        "for i in range(NUM_BATCHES):\n",
        "    with open(os.path.join(DATA_DIR, 'embeddings-batch' + str(i) + '-' + MODEL_NAME.replace(\"/\", \"-\") + '.pkl'), 'rb') as f:\n",
        "        print(\"Loading batch:\", i)\n",
        "        embeddings += pkl.load(f)"
      ],
      "execution_count": 0,
      "outputs": [
        {
          "output_type": "stream",
          "text": [
            "Loading batch: 0\n",
            "Loading batch: 1\n",
            "Loading batch: 2\n",
            "Loading batch: 3\n",
            "Loading batch: 4\n",
            "Loading batch: 5\n",
            "Loading batch: 6\n",
            "Loading batch: 7\n"
          ],
          "name": "stdout"
        }
      ]
    },
    {
      "cell_type": "markdown",
      "metadata": {
        "id": "RU5D9t9hC9Lt",
        "colab_type": "text"
      },
      "source": [
        "Save/Load cached embeddings data"
      ]
    },
    {
      "cell_type": "code",
      "metadata": {
        "id": "Z6aD3Zb7MwVd",
        "colab_type": "code",
        "colab": {}
      },
      "source": [
        "# Save full embeddings file\n",
        "# Using hdf5 instead of pickle because list is too long, causing memory issues\n",
        "hf = h5py.File(os.path.join(DATA_DIR, 'embeddings-' + MODEL_NAME.replace(\"/\", \"-\") + '.hdf5'), 'w')\n",
        "hf.create_dataset('embeddings', data=embeddings)\n",
        "hf.close()"
      ],
      "execution_count": 0,
      "outputs": []
    },
    {
      "cell_type": "code",
      "metadata": {
        "id": "PFVMFw7wNcQh",
        "colab_type": "code",
        "colab": {}
      },
      "source": [
        "# Load embeddings from hdf5 file\n",
        "f = h5py.File(os.path.join(DATA_DIR, 'cached/embeddings-' + MODEL_NAME.replace(\"/\", \"-\") + '.hdf5'), 'r')\n",
        "embeddings = f[\"embeddings\"][:]"
      ],
      "execution_count": 0,
      "outputs": []
    },
    {
      "cell_type": "markdown",
      "metadata": {
        "id": "YMKWjxy2RVCe",
        "colab_type": "text"
      },
      "source": [
        "## Ask Query"
      ]
    },
    {
      "cell_type": "code",
      "metadata": {
        "id": "SEwfm9hPSNip",
        "colab_type": "code",
        "outputId": "ebdbe159-f966-434c-b24f-0a210c9a7267",
        "colab": {
          "base_uri": "https://localhost:8080/",
          "height": 34
        }
      },
      "source": [
        "query = 'What effect does COVID-19 have on pets?'\n",
        "query = [re.sub(r'[^a-zA-z0-9\\s]', '', query).lower()]\n",
        "query_embedding = np.array(embedder.encode(query ,show_progress_bar=True))"
      ],
      "execution_count": 8,
      "outputs": [
        {
          "output_type": "stream",
          "text": [
            "Batches: 100%|██████████| 1/1 [00:00<00:00,  1.02it/s]\n"
          ],
          "name": "stderr"
        }
      ]
    },
    {
      "cell_type": "code",
      "metadata": {
        "id": "kwqL9qyxWKwC",
        "colab_type": "code",
        "outputId": "d89ac885-fb85-4399-ebf3-ed700985c89c",
        "colab": {
          "base_uri": "https://localhost:8080/",
          "height": 86
        }
      },
      "source": [
        "# Split cosine similarity search into batches to save memory\n",
        "NUM_CLOSEST = 5\n",
        "NUM_BATCH_DIST = 4\n",
        "embed_batches = np.array_split(embeddings, NUM_BATCH_DIST)\n",
        "\n",
        "results = []\n",
        "index = 0\n",
        "for i, batch in enumerate(embed_batches):\n",
        "    print(\"Calculating batch:\", i)\n",
        "    distances = scipy.spatial.distance.cdist(query_embedding, batch, \"cosine\")[0]\n",
        "\n",
        "    results += zip(range(index, index + batch.shape[0]), distances)\n",
        "    index += batch.shape[0]\n",
        "    # only keep top results every batch\n",
        "    results = sorted(results, key=lambda x: x[1])[:NUM_CLOSEST]"
      ],
      "execution_count": 9,
      "outputs": [
        {
          "output_type": "stream",
          "text": [
            "Calculating batch: 0\n",
            "Calculating batch: 1\n",
            "Calculating batch: 2\n",
            "Calculating batch: 3\n"
          ],
          "name": "stdout"
        }
      ]
    },
    {
      "cell_type": "code",
      "metadata": {
        "id": "lIJqLixPXR5g",
        "colab_type": "code",
        "outputId": "1171642e-57fe-48c2-db8e-41db2e9a49c3",
        "colab": {
          "base_uri": "https://localhost:8080/",
          "height": 103
        }
      },
      "source": [
        "results"
      ],
      "execution_count": 10,
      "outputs": [
        {
          "output_type": "execute_result",
          "data": {
            "text/plain": [
              "[(859606, 0.3127214891997371),\n",
              " (914960, 0.320520335446859),\n",
              " (886114, 0.32274887618911074),\n",
              " (667820, 0.3316032067115031),\n",
              " (724743, 0.3356076668326584)]"
            ]
          },
          "metadata": {
            "tags": []
          },
          "execution_count": 10
        }
      ]
    },
    {
      "cell_type": "code",
      "metadata": {
        "id": "jpOMrXt5TVh1",
        "colab_type": "code",
        "outputId": "4e295e0c-dcee-46c9-fdef-e08f347add32",
        "colab": {
          "base_uri": "https://localhost:8080/",
          "height": 1000
        }
      },
      "source": [
        "print(\"QUESTION:\", query)\n",
        "\n",
        "for i, distance in results:\n",
        "    print(\"Score:   \", \"(Score: %.4f)\" % (1-distance) , \"\\n\" )\n",
        "    print(\"Paragraph:   \", df_sentences.iloc[i][\"body_text\"].strip(), \"\\n\" )\n",
        "    print(\"paper_id:  \" , df_sentences.iloc[i][\"paper_id\"] , \"\\n\")\n",
        "    print(\"Title:  \" , df_sentences.iloc[i][\"title\"] , \"\\n\")\n",
        "    print(\"Abstract:  \" , df_sentences.iloc[i][\"abstract\"] , \"\\n\")\n",
        "    print(\"-------------------------------------------\")"
      ],
      "execution_count": 14,
      "outputs": [
        {
          "output_type": "stream",
          "text": [
            "QUESTION: ['what effect does covid19 have on pets']\n",
            "Score:    (Score: 0.6873) \n",
            "\n",
            "Paragraph:    are there differences in regulation by the canine and feline microbiome \n",
            "\n",
            "paper_id:   6d1b4e1200c1da4dff5048bdff36805e28511154 \n",
            "\n",
            "Title:   Cats are not small dogs: is there an immunological explanation for why cats are less affected by arthropod-borne disease than dogs? \n",
            "\n",
            "Abstract:   It is widely recognized that cats appear to be less frequently affected by arthropod-borne infectious diseases than dogs and share fewer zoonotic pathogens with man. This impression is supported by the relative lack of scientific publications related to feline vector-borne infections. This review explores the possible reasons for the difference between the two most common small companion animal species, including the hypothesis that cats might have a genetically-determined immunological resistance to arthropod vectors or the microparasites they transmit. A number of simple possibilities might account for the lower prevalence of these diseases in cats, including factors related to the lifestyle and behaviour of the cat, lesser spend on preventative healthcare for cats and reduced opportunities for research funding for these animals. The dog and cat have substantially similar immune system components, but differences in immune function might in part account for the markedly distinct prevalence and clinicopathological appearance of autoimmune, allergic, idiopathic inflammatory, immunodeficiency, neoplastic and infectious diseases in the two species. Cats have greater genetic diversity than dogs with much lower linkage disequilibrium in feline compared with canine breed groups. Immune function is intrinsically related to the nature of the intestinal microbiome and subtle differences between the canine and feline microbial populations might also impact on immune function and disease resistance. The reasons for the apparent lesser susceptibility of cats to arthropod-borne infectious diseases are likely to be complex, but warrant further investigation. \n",
            "\n",
            "-------------------------------------------\n",
            "Score:    (Score: 0.6795) \n",
            "\n",
            "Paragraph:    to determine whether aged and young adult animals respond differently to sarscovinfection their gene expression profiles \n",
            "\n",
            "paper_id:   284790100b67133f3228466016a8f98ad096e24d \n",
            "\n",
            "Title:   Exacerbated Innate Host Response to SARS-CoV in Aged Non-Human Primates \n",
            "\n",
            "Abstract:   The emergence of viral respiratory pathogens with pandemic potential, such as severe acute respiratory syndrome coronavirus (SARS-CoV) and influenza A H5N1, urges the need for deciphering their pathogenesis to develop new intervention strategies. SARS-CoV infection causes acute lung injury (ALI) that may develop into life-threatening acute respiratory distress syndrome (ARDS) with advanced age correlating positively with adverse disease outcome. The molecular pathways, however, that cause virus-induced ALI/ARDS in aged individuals are ill-defined. Here, we show that SARS-CoVinfected aged macaques develop more severe pathology than young adult animals, even though viral replication levels are similar. Comprehensive genomic analyses indicate that aged macaques have a stronger host response to virus infection than young adult macaques, with an increase in differential expression of genes associated with inflammation, with NF-kB as central player, whereas expression of type I interferon (IFN)-b is reduced. Therapeutic treatment of SARS-CoV-infected aged macaques with type I IFN reduces pathology and diminishes pro-inflammatory gene expression, including interleukin-8 (IL-8) levels, without affecting virus replication in the lungs. Thus, ALI in SARS-CoV-infected aged macaques developed as a result of an exacerbated innate host response. The anti-inflammatory action of type I IFN reveals a potential intervention strategy for virus-induced ALI. \n",
            "\n",
            "-------------------------------------------\n",
            "Score:    (Score: 0.6773) \n",
            "\n",
            "Paragraph:    i what is the animal reservoirintermediate host \n",
            "\n",
            "paper_id:   8a84c8827f0a55d3a8b8efd1d3439de1738ddd6a \n",
            "\n",
            "Title:   COVID-19: Knowns, Unknowns, and Questions \n",
            "\n",
            "Abstract:   The recent emergence of severe acute respiratory syndrome coronavirus 2 (SARS-CoV-2) from the Hubei province in China in late 2019 demonstrates the epidemic potential of coronaviruses. The rapid spread of this virus across the world in only 2 months highlights the transmissibility of this family of viruses and the significant morbidity and mortality that they can cause. We highlight the current state of knowledge of coronavirus biology while answering questions concerning the current outbreak of SARS-CoV-2. \n",
            "\n",
            "-------------------------------------------\n",
            "Score:    (Score: 0.6684) \n",
            "\n",
            "Paragraph:    the risk factor of clinical outcome of exposed dogs in patch i \n",
            "\n",
            "paper_id:   f6d2472b2a57eda4999b8c69abd1cbb5b3518048 \n",
            "\n",
            "Title:   Modeling the transmission dynamics and control of rabies in China \n",
            "\n",
            "Abstract:   Human rabies was first recorded in ancient China in about 556 BC and is still one of the major publichealth problems in China. From 1950 human rabies cases were reported in Mainland China with an average of 1977 cases per year. It is estimated that 95% of these human rabies cases are due to dog bites. The purpose of this article is to provide a review about the models, results, and simulations that we have obtained recently on studying the transmission of rabies in China. We first construct a basic susceptible, exposed, infectious, and recovered (SEIR) type model for the spread of rabies virus among dogs and from dogs to humans and use the model to simulate the human rabies data in China from 1996 to 2010. Then we modify the basic model by including both domestic and stray dogs and apply the model to simulate the human rabies data from Guangdong Province, China. To study the seasonality of rabies, in Section 4 we further propose a SEIR model with periodic transmission rates and employ the model to simulate the monthly data of human rabies cases reported by the Chinese Ministry of Health from January 2004 to December 2010. To understand the spatial spread of rabies, in Section 5 we add diffusion to the dog population in the basic SEIR model to obtain a reaction-diffusion equation model and determine the minimum wave speed connecting the disease-free equilibrium to the endemic equilibrium. Finally, in order to investigate how the movement of dogs affects the geographically inter-provincial spread of rabies in Mainland China, in Section 6 we propose a multi-patch model to describe the transmission dynamics of rabies between dogs and humans and use the two-patch submodel to investigate the rabies virus clades lineages and to simulate the human rabies data from Guizhou and Guangxi, Hebei and Fujian, and Sichuan and Shaanxi, respectively. Some discussions are provided in Section 7 .\n",
            "We consider both dogs and humans and classify each of them into four subclasses: susceptible, exposed, infectious and recovered, with dog sizes denoted by S d ( t ), E d ( t ), I d ( t ), and R d ( t ), and human sizes denoted by S h ( t ), E h ( t ), I h ( t ), and R h ( t ), respectively. When a susceptible human individual is bitten by an infectious dog, this human individual is now exposed. Data [51] indicate that the incubation period ranges from 5 days to 3 years, with a median of 41 days and a mean of 70 days. About 15-20% of those bitten by infected dogs progress to illness and become infectious [9] . Since more and more bitten people are seeking for PEP, the recovered rate of infected humans has been increasing in China [15] .\n",
            "Our assumptions on the dynamical transmission of rabies among dogs and from dogs to humans are demonstrated in the flowchart ( Fig. 2.1 ) . The model is a system of eight ordinary differential equations: dS d dt \n",
            "\n",
            "-------------------------------------------\n",
            "Score:    (Score: 0.6644) \n",
            "\n",
            "Paragraph:    globally what research has been undertaken related to the current use or suggestion of dogs as sentinels for human infectious disease 2 \n",
            "\n",
            "paper_id:   a95452bb03845776e74c5af3dd628cb5c25a02aa \n",
            "\n",
            "Title:   Dogs (Canis familiaris) as Sentinels for Human Infectious Disease and Application to Canadian Populations: A Systematic Review \n",
            "\n",
            "Abstract:   In a world where climate change, vector expansion, human activity, and pathogen dispersal do not respect boundaries, the human-animal-pathogen interface has become less defined. Consequently, a One Health approach to disease surveillance and control has generated much interest across several disciplines. This systematic review evaluates current global research on the use of domestic dogs as sentinels for human infectious disease, and critically appraises how this may be applied within Canada. Results highlighted a bias in research from highand middle-income-economy countries, with 35% of the studies describing data from the Latin America/Caribbean region, 25% from North America, and 11% from the European/Central Asia region. Bacteria were the most studied type of infectious agent, followed by protozoa, viruses, helminths, and fungi. Only six out of 142 studies described disease in Canada: four researched a variety of pathogens within Indigenous communities, one researched Borrelia burgdorferi in British Columbia, and one researched arboviruses in Quebec. Results from this review suggest that dogs could provide excellent sentinels for certain infectious-disease pathogens in Canada, yet are currently overlooked. Further research into the use of dog-sentinel surveillance is specifically recommended for California serogroup viruses, Chikungunya virus, West Nile virus, Lyme borreliosis, Rickettsia spp., Ehrlichia spp., and Dirofilaria immitis. \n",
            "\n",
            "-------------------------------------------\n"
          ],
          "name": "stdout"
        }
      ]
    },
    {
      "cell_type": "markdown",
      "metadata": {
        "id": "E-abnXIT_aDl",
        "colab_type": "text"
      },
      "source": [
        "## Notes"
      ]
    },
    {
      "cell_type": "markdown",
      "metadata": {
        "id": "CfXdxyWh_cyM",
        "colab_type": "text"
      },
      "source": [
        "`bert-base-nli-mean-tokens` \n",
        "- takes about 1 hour per batch (4 hours total).\n",
        "\n",
        "`distilbert-base-nli-stsb-mean-tokens` \n",
        "- takes about 30 min per batch (2 hours total). twice as fast.\n",
        "- answers seem to not be great. lots of repeated answers. could be due to this model being fine-tuned on specifically \"semantic textual similarity\".\n",
        "\n",
        "\n",
        "`distilbert-base-nli-mean-tokens`\n",
        "- takes about 45 min per batch. \n",
        "- answers better than distilbert finetuned. maybe not as base bert or about the same.\n",
        "\n",
        "`roberta-base-nli-stsb-mean-tokens`\n",
        "- about 45-60 min per batch\n",
        "- answers better than both distilbert.\n",
        "- not sure how to compare with base bert\n",
        "\n",
        "`covidbert`\n",
        "- about 45 min per batch\n",
        "- answers a lot more accurate than other bert models"
      ]
    }
  ]
}